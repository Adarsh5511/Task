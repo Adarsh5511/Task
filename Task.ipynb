{
 "cells": [
  {
   "cell_type": "code",
   "execution_count": 3,
   "id": "796eb843-cc31-446c-b579-dec5eb227b41",
   "metadata": {},
   "outputs": [
    {
     "name": "stdout",
     "output_type": "stream",
     "text": [
      "LYLTY_CARD_NBR      0\n",
      "LIFESTAGE           0\n",
      "PREMIUM_CUSTOMER    0\n",
      "dtype: int64\n",
      "DATE              0\n",
      "STORE_NBR         0\n",
      "LYLTY_CARD_NBR    0\n",
      "TXN_ID            0\n",
      "PROD_NBR          0\n",
      "PROD_NAME         0\n",
      "PROD_QTY          0\n",
      "TOT_SALES         0\n",
      "dtype: int64\n"
     ]
    }
   ],
   "source": [
    "import pandas as pd\n",
    "purchase_behaviour = pd.read_csv('purchase_behaviour.csv')\n",
    "transaction_data = pd.read_csv('transaction_data.csv')\n",
    "print(purchase_behaviour.isnull().sum())\n",
    "print(transaction_data.isnull().sum())"
   ]
  },
  {
   "cell_type": "code",
   "execution_count": 4,
   "id": "3a596c64-7d93-4ef9-b7db-77575d931a4d",
   "metadata": {},
   "outputs": [],
   "source": [
    "transaction_data['DATE'] = pd.to_datetime(transaction_data['DATE'])\n",
    "transaction_data['TOT_SALES'] = pd.to_numeric(transaction_data['TOT_SALES'])\n",
    "merged_data = pd.merge(transaction_data, purchase_behaviour, on='LYLTY_CARD_NBR', how='inner')"
   ]
  },
  {
   "cell_type": "code",
   "execution_count": 5,
   "id": "3548158e-ad7d-4623-bd3e-ad541445bfb9",
   "metadata": {},
   "outputs": [
    {
     "name": "stdout",
     "output_type": "stream",
     "text": [
      "Top 3 Most Profitable Products:\n",
      "                                   PROD_NAME  TOT_SALES\n",
      "11          Dorito Corn Chp     Supreme 380g    40352.0\n",
      "86    Smiths Crnkle Chip  Orgnl Big Bag 380g    36367.6\n",
      "77  Smiths Crinkle Chips Salt & Vinegar 330g    34804.2\n"
     ]
    }
   ],
   "source": [
    "product_profitability = merged_data.groupby('PROD_NAME')['TOT_SALES'].sum().reset_index()\n",
    "top_3_products = product_profitability.sort_values(by='TOT_SALES', ascending=False).head(3)\n",
    "print(\"Top 3 Most Profitable Products:\")\n",
    "print(top_3_products)"
   ]
  },
  {
   "cell_type": "code",
   "execution_count": 6,
   "id": "acd2e47a-c84c-4e7e-9813-40e1de985891",
   "metadata": {},
   "outputs": [
    {
     "name": "stdout",
     "output_type": "stream",
     "text": [
      "Characteristics of Loyal Customers:\n",
      "                 LIFESTAGE PREMIUM_CUSTOMER  count\n",
      "0   MIDAGE SINGLES/COUPLES           Budget     80\n",
      "1   MIDAGE SINGLES/COUPLES       Mainstream    246\n",
      "2   MIDAGE SINGLES/COUPLES          Premium    150\n",
      "3             NEW FAMILIES           Budget      2\n",
      "4           OLDER FAMILIES           Budget   1262\n",
      "5           OLDER FAMILIES       Mainstream    793\n",
      "6           OLDER FAMILIES          Premium    598\n",
      "7    OLDER SINGLES/COUPLES           Budget    316\n",
      "8    OLDER SINGLES/COUPLES       Mainstream    299\n",
      "9    OLDER SINGLES/COUPLES          Premium    295\n",
      "10                RETIREES           Budget    169\n",
      "11                RETIREES       Mainstream    213\n",
      "12                RETIREES          Premium    134\n",
      "13          YOUNG FAMILIES           Budget   1015\n",
      "14          YOUNG FAMILIES       Mainstream    634\n",
      "15          YOUNG FAMILIES          Premium    604\n",
      "16   YOUNG SINGLES/COUPLES           Budget    105\n",
      "17   YOUNG SINGLES/COUPLES       Mainstream    274\n",
      "18   YOUNG SINGLES/COUPLES          Premium     74\n"
     ]
    }
   ],
   "source": [
    "customer_metrics = merged_data.groupby('LYLTY_CARD_NBR').agg(\n",
    "    total_spend=('TOT_SALES', 'sum'),\n",
    "    purchase_frequency=('TXN_ID', 'nunique'),\n",
    "    last_purchase_date=('DATE', 'max')\n",
    ").reset_index()\n",
    "\n",
    "customer_metrics['loyalty_score'] = customer_metrics['total_spend'] * customer_metrics['purchase_frequency']\n",
    "loyal_customers = customer_metrics.sort_values(by='loyalty_score', ascending=False).head(int(len(customer_metrics) * 0.1))\n",
    "loyal_customer_demographics = pd.merge(loyal_customers, purchase_behaviour, on='LYLTY_CARD_NBR', how='left')\n",
    "\n",
    "loyal_customer_summary = loyal_customer_demographics.groupby(['LIFESTAGE', 'PREMIUM_CUSTOMER']).size().reset_index(name='count')\n",
    "print(\"Characteristics of Loyal Customers:\")\n",
    "print(loyal_customer_summary)"
   ]
  },
  {
   "cell_type": "code",
   "execution_count": null,
   "id": "3ba50c65-6de8-4890-8f39-2b31b30f1469",
   "metadata": {},
   "outputs": [],
   "source": []
  }
 ],
 "metadata": {
  "kernelspec": {
   "display_name": "Python 3 (ipykernel)",
   "language": "python",
   "name": "python3"
  },
  "language_info": {
   "codemirror_mode": {
    "name": "ipython",
    "version": 3
   },
   "file_extension": ".py",
   "mimetype": "text/x-python",
   "name": "python",
   "nbconvert_exporter": "python",
   "pygments_lexer": "ipython3",
   "version": "3.12.2"
  }
 },
 "nbformat": 4,
 "nbformat_minor": 5
}
